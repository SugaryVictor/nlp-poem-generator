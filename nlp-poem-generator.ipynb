{
 "cells": [
  {
   "cell_type": "markdown",
   "source": [
    "# Imports"
   ],
   "metadata": {
    "collapsed": false,
    "pycharm": {
     "name": "#%% md\n"
    }
   }
  },
  {
   "cell_type": "code",
   "execution_count": 1,
   "metadata": {
    "collapsed": true,
    "pycharm": {
     "name": "#%%\n"
    }
   },
   "outputs": [
    {
     "name": "stderr",
     "output_type": "stream",
     "text": [
      "2022-08-31 09:53:41.687157: W tensorflow/stream_executor/platform/default/dso_loader.cc:64] Could not load dynamic library 'libcudart.so.11.0'; dlerror: libcudart.so.11.0: cannot open shared object file: No such file or directory\n",
      "2022-08-31 09:53:41.687219: I tensorflow/stream_executor/cuda/cudart_stub.cc:29] Ignore above cudart dlerror if you do not have a GPU set up on your machine.\n"
     ]
    }
   ],
   "source": [
    "import pandas as pd\n",
    "import numpy as np\n",
    "\n",
    "import re #регулярные выражения\n",
    "import nltk\n",
    "from nltk.tokenize import word_tokenize #для маркировки текста\n",
    "from keras.utils import to_categorical\n",
    "from keras.models import Sequential, load_model\n",
    "from keras.layers import Dense, Embedding, LSTM, Dropout\n",
    "from keras.preprocessing.text import Tokenizer #преобразования маркированных слов в числа"
   ]
  },
  {
   "cell_type": "markdown",
   "source": [
    "# Смотрим на данные и предворительно обрабатываем их"
   ],
   "metadata": {
    "collapsed": false,
    "pycharm": {
     "name": "#%% md\n"
    }
   }
  },
  {
   "cell_type": "code",
   "execution_count": 2,
   "outputs": [
    {
     "data": {
      "text/plain": "                     writer                                       poem  \\\n0  Лермонтов Михаил Юрьевич                            Любовь мертвеца   \n1  Лермонтов Михаил Юрьевич                       На серебряные шпоры…   \n2  Лермонтов Михаил Юрьевич                  Вид гор из степей Козлова   \n3  Лермонтов Михаил Юрьевич     К  (О, не скрывай! Ты плакала об нем…)   \n4  Лермонтов Михаил Юрьевич  Жалобы турка (письмо к другу, иностранцу)   \n\n                                                text  \n0                                                NaN  \n1  На серебряные шпоры\\nЯ в раздумии гляжу;\\nЗа т...  \n2  Пилигрим\\nАллах ли там среди пустыни\\nЗастывши...  \n3  О, не скрывай! Ты плакала об нем –\\nИ я его лю...  \n4  Ты знал ли дикий край, под знойными лучами,\\nГ...  ",
      "text/html": "<div>\n<style scoped>\n    .dataframe tbody tr th:only-of-type {\n        vertical-align: middle;\n    }\n\n    .dataframe tbody tr th {\n        vertical-align: top;\n    }\n\n    .dataframe thead th {\n        text-align: right;\n    }\n</style>\n<table border=\"1\" class=\"dataframe\">\n  <thead>\n    <tr style=\"text-align: right;\">\n      <th></th>\n      <th>writer</th>\n      <th>poem</th>\n      <th>text</th>\n    </tr>\n  </thead>\n  <tbody>\n    <tr>\n      <th>0</th>\n      <td>Лермонтов Михаил Юрьевич</td>\n      <td>Любовь мертвеца</td>\n      <td>NaN</td>\n    </tr>\n    <tr>\n      <th>1</th>\n      <td>Лермонтов Михаил Юрьевич</td>\n      <td>На серебряные шпоры…</td>\n      <td>На серебряные шпоры\\nЯ в раздумии гляжу;\\nЗа т...</td>\n    </tr>\n    <tr>\n      <th>2</th>\n      <td>Лермонтов Михаил Юрьевич</td>\n      <td>Вид гор из степей Козлова</td>\n      <td>Пилигрим\\nАллах ли там среди пустыни\\nЗастывши...</td>\n    </tr>\n    <tr>\n      <th>3</th>\n      <td>Лермонтов Михаил Юрьевич</td>\n      <td>К  (О, не скрывай! Ты плакала об нем…)</td>\n      <td>О, не скрывай! Ты плакала об нем –\\nИ я его лю...</td>\n    </tr>\n    <tr>\n      <th>4</th>\n      <td>Лермонтов Михаил Юрьевич</td>\n      <td>Жалобы турка (письмо к другу, иностранцу)</td>\n      <td>Ты знал ли дикий край, под знойными лучами,\\nГ...</td>\n    </tr>\n  </tbody>\n</table>\n</div>"
     },
     "execution_count": 2,
     "metadata": {},
     "output_type": "execute_result"
    }
   ],
   "source": [
    "df = pd.read_csv('./data/poems.csv')\n",
    "df.head()"
   ],
   "metadata": {
    "collapsed": false,
    "pycharm": {
     "name": "#%%\n"
    }
   }
  },
  {
   "cell_type": "code",
   "execution_count": 3,
   "outputs": [
    {
     "data": {
      "text/plain": "writer       48\npoem      18317\ntext      18767\ndtype: int64"
     },
     "execution_count": 3,
     "metadata": {},
     "output_type": "execute_result"
    }
   ],
   "source": [
    "df.nunique()"
   ],
   "metadata": {
    "collapsed": false,
    "pycharm": {
     "name": "#%%\n"
    }
   }
  },
  {
   "cell_type": "code",
   "execution_count": 4,
   "outputs": [
    {
     "data": {
      "text/plain": "writer     0\npoem       0\ntext      14\ndtype: int64"
     },
     "execution_count": 4,
     "metadata": {},
     "output_type": "execute_result"
    }
   ],
   "source": [
    "df.isnull().sum()"
   ],
   "metadata": {
    "collapsed": false,
    "pycharm": {
     "name": "#%%\n"
    }
   }
  },
  {
   "cell_type": "code",
   "execution_count": 5,
   "outputs": [
    {
     "data": {
      "text/plain": "writer    0\npoem      0\ntext      0\ndtype: int64"
     },
     "execution_count": 5,
     "metadata": {},
     "output_type": "execute_result"
    }
   ],
   "source": [
    "# удаляю строки без стихов\n",
    "df['text'].replace('', None, inplace = True)\n",
    "df.dropna(subset = ['text'], inplace = True)\n",
    "df.isnull().sum()"
   ],
   "metadata": {
    "collapsed": false,
    "pycharm": {
     "name": "#%%\n"
    }
   }
  },
  {
   "cell_type": "code",
   "execution_count": 6,
   "outputs": [],
   "source": [
    "# сохраняю файл в текстовом виде\n",
    "np.savetxt(r'./data/poems.txt', df['text'].values, fmt='%s')"
   ],
   "metadata": {
    "collapsed": false,
    "pycharm": {
     "name": "#%%\n"
    }
   }
  },
  {
   "cell_type": "markdown",
   "source": [
    "## Предварительная обработка текстового файла"
   ],
   "metadata": {
    "collapsed": false,
    "pycharm": {
     "name": "#%% md\n"
    }
   }
  },
  {
   "cell_type": "code",
   "execution_count": 7,
   "outputs": [],
   "source": [
    "poems = open('./data/poems.txt').read()"
   ],
   "metadata": {
    "collapsed": false,
    "pycharm": {
     "name": "#%%\n"
    }
   }
  },
  {
   "cell_type": "code",
   "execution_count": 8,
   "outputs": [],
   "source": [
    "#Функция для очищений текста\n",
    "def preprocess_text(line):\n",
    "    #Убираю пунктуацию, числа и специальные символы\n",
    "    sentance = re.sub('[^а-яА-Я]', ' ', line)\n",
    "\n",
    "    #Удаление одного символа\n",
    "    sentance = re.sub(r\"\\s+[а-яА-Я]\\s+\", ' ', sentance)\n",
    "\n",
    "    #Удаление нескольких пробелов\n",
    "    sentance = re.sub(r\"\\s+\", ' ', sentance)\n",
    "\n",
    "    return sentance.lower()"
   ],
   "metadata": {
    "collapsed": false,
    "pycharm": {
     "name": "#%%\n"
    }
   }
  },
  {
   "cell_type": "code",
   "execution_count": 9,
   "outputs": [],
   "source": [
    "poems = preprocess_text(poems)"
   ],
   "metadata": {
    "collapsed": false,
    "pycharm": {
     "name": "#%%\n"
    }
   }
  },
  {
   "cell_type": "code",
   "execution_count": 10,
   "outputs": [
    {
     "data": {
      "text/plain": "'на серебряные шпоры в раздумии гляжу за тебя скакун мой скорый за бока твои дрожу наши предки их не знали гарцуя средь степей толстой плеткой погоняли недоезжаных коней но успехом просвещенья вместо грубой старины введены изобретенья чужеземной стороны наше время кормят холят берегут спинную честь прежде били нынче колют что же выгодней бог весть пилигрим аллах ли там среди пустыни застывших волн воздвиг твердыни притоны ангелам своим иль дивы словом роковым стеной умели так высоко громады скал '"
     },
     "execution_count": 10,
     "metadata": {},
     "output_type": "execute_result"
    }
   ],
   "source": [
    "poems[:500]"
   ],
   "metadata": {
    "collapsed": false,
    "pycharm": {
     "name": "#%%\n"
    }
   }
  },
  {
   "cell_type": "markdown",
   "source": [
    "# Преобразование слов в числа\n",
    "Прежде чем мы сможем преобразовать слова в целые числа, нам нужно маркировать наш текст в отдельные слова. Для этого можно использовать метод **word_tokenize()** из модуля **nltk.tokenize** ."
   ],
   "metadata": {
    "collapsed": false,
    "pycharm": {
     "name": "#%% md\n"
    }
   }
  },
  {
   "cell_type": "code",
   "execution_count": 11,
   "outputs": [
    {
     "name": "stderr",
     "output_type": "stream",
     "text": [
      "[nltk_data] Downloading package punkt to /home/victor/nltk_data...\n",
      "[nltk_data]   Package punkt is already up-to-date!\n"
     ]
    },
    {
     "name": "stdout",
     "output_type": "stream",
     "text": [
      "Total words: 3258715\n",
      "Unique words: 244855\n"
     ]
    }
   ],
   "source": [
    "nltk.download('punkt')\n",
    "\n",
    "poems_words = (word_tokenize(poems))\n",
    "num_words = len(poems_words)\n",
    "unique_words = len(set(poems_words))\n",
    "\n",
    "print(f'Total words: {num_words}')\n",
    "print(f'Unique words: {unique_words}')"
   ],
   "metadata": {
    "collapsed": false,
    "pycharm": {
     "name": "#%%\n"
    }
   }
  },
  {
   "cell_type": "code",
   "execution_count": 12,
   "outputs": [],
   "source": [
    "#преобразование маркировнных слов в числа\n",
    "tokenizer = Tokenizer(num_words=unique_words)\n",
    "tokenizer.fit_on_texts(poems_words)"
   ],
   "metadata": {
    "collapsed": false,
    "pycharm": {
     "name": "#%%\n"
    }
   }
  },
  {
   "cell_type": "code",
   "execution_count": 13,
   "outputs": [],
   "source": [
    "#доступ к словарю с словами и индексами\n",
    "vocab_size = len(tokenizer.word_index) + 1\n",
    "word2index = tokenizer.word_index"
   ],
   "metadata": {
    "collapsed": false,
    "pycharm": {
     "name": "#%%\n"
    }
   }
  },
  {
   "cell_type": "code",
   "execution_count": 14,
   "outputs": [
    {
     "name": "stdout",
     "output_type": "stream",
     "text": [
      "страдал\n",
      "3956\n"
     ]
    }
   ],
   "source": [
    "#проверка\n",
    "print(poems_words[500])\n",
    "print(word2index[poems_words[500]])"
   ],
   "metadata": {
    "collapsed": false,
    "pycharm": {
     "name": "#%%\n"
    }
   }
  },
  {
   "cell_type": "markdown",
   "source": [
    "# Изменение формы данных"
   ],
   "metadata": {
    "collapsed": false,
    "pycharm": {
     "name": "#%% md\n"
    }
   }
  },
  {
   "cell_type": "code",
   "execution_count": 15,
   "outputs": [],
   "source": [
    "input_sequence = []\n",
    "output_words = []\n",
    "input_seq_length = 100 #значения входной последовательности\n",
    "\n",
    "for i in range(0, num_words - input_seq_length, 1):\n",
    "    in_seq = poems_words[i:i + input_seq_length]\n",
    "    out_seq = poems_words[i + input_seq_length]\n",
    "\n",
    "    input_sequence.append([word2index[word] for word in in_seq])\n",
    "    output_words.append(word2index[out_seq])"
   ],
   "metadata": {
    "collapsed": false,
    "pycharm": {
     "name": "#%%\n"
    }
   }
  },
  {
   "cell_type": "code",
   "execution_count": null,
   "outputs": [],
   "source": [
    "X = np.reshape(input_sequence, (len(input_sequence), input_seq_length, 1))\n",
    "X = X / float(vocab_size)\n",
    "\n",
    "y = to_categorical(output_words)\n",
    "\n",
    "print(\"X shape:\", X.shape)\n",
    "print(\"y shape:\", y.shape)"
   ],
   "metadata": {
    "collapsed": false,
    "pycharm": {
     "name": "#%%\n",
     "is_executing": true
    }
   }
  },
  {
   "cell_type": "markdown",
   "source": [
    "# Обучение модели"
   ],
   "metadata": {
    "collapsed": false,
    "pycharm": {
     "name": "#%% md\n"
    }
   }
  },
  {
   "cell_type": "code",
   "execution_count": null,
   "outputs": [],
   "source": [
    "model = Sequential()\n",
    "model.add(LSTM(800, input_shape=(X.shape[1], X.shape[2]), return_sequences=True))\n",
    "model.add(LSTM(800, return_sequences=True))\n",
    "model.add(LSTM(800))\n",
    "model.add(Dense(y.shape[1], activation='softmax'))\n",
    "\n",
    "model.summary()\n",
    "\n",
    "model.complie(loss='categorical_crossentropy', optimizer='adam')"
   ],
   "metadata": {
    "collapsed": false,
    "pycharm": {
     "name": "#%%\n",
     "is_executing": true
    }
   }
  },
  {
   "cell_type": "code",
   "execution_count": null,
   "outputs": [],
   "source": [],
   "metadata": {
    "collapsed": false,
    "pycharm": {
     "name": "#%%\n",
     "is_executing": true
    }
   }
  },
  {
   "cell_type": "code",
   "execution_count": null,
   "outputs": [],
   "source": [],
   "metadata": {
    "collapsed": false,
    "pycharm": {
     "name": "#%%\n",
     "is_executing": true
    }
   }
  },
  {
   "cell_type": "code",
   "execution_count": null,
   "outputs": [],
   "source": [],
   "metadata": {
    "collapsed": false,
    "pycharm": {
     "name": "#%%\n",
     "is_executing": true
    }
   }
  }
 ],
 "metadata": {
  "kernelspec": {
   "display_name": "Python 3",
   "language": "python",
   "name": "python3"
  },
  "language_info": {
   "codemirror_mode": {
    "name": "ipython",
    "version": 2
   },
   "file_extension": ".py",
   "mimetype": "text/x-python",
   "name": "python",
   "nbconvert_exporter": "python",
   "pygments_lexer": "ipython2",
   "version": "2.7.6"
  }
 },
 "nbformat": 4,
 "nbformat_minor": 0
}